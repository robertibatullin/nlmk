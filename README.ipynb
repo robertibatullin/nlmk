{
 "cells": [
  {
   "cell_type": "markdown",
   "metadata": {},
   "source": [
    "# Работа с пакетом ```nlmk```\n",
    "\n",
    "Пакет работает под Linux и Windows. Установка требует некоторых дополнительных пакетов. Прежде всего должен быть установлен язык python не ниже версии 3.6 и программа pip.\n",
    "\n",
    "## Установка\n",
    "\n",
    "* Подключись к интернету.\n",
    "\n",
    "* В командной строке введите:\n",
    "\n",
    "```bash\n",
    "pip install git+git://github.io/robertibatullin/nlmk\n",
    "```\n",
    "\n",
    "* Если в ходе установки появились ошибки, связанные с pytorch или opencv, установите их отдельно.\n",
    "\n",
    "* Инструкции по установке pytorch для вашей ОС: https://pytorch.org/. Выберите опции: Package - Pip, Language - Python, CUDA - None.\n",
    "\n",
    "* Для установки OpenCV введите команду: pip install opencv-python\n",
    "\n",
    "## Работа с программой-демонстратором работы детектора\n",
    "\n",
    "### Запуск\n",
    "\n",
    "Запишите приложенный к этой инструкции скрипт demo.py в любую удобную папку. Запустите его из командной строки командой:\n",
    "\n",
    "```bash\n",
    "python3 demo.py --daytime <ВРЕМЯ СУТОК (day/night), ПО УМОЛЧАНИЮ day>\n",
    "                --model_folder <ПАПКА С ФАЙЛАМИ day.pth, night.pth>\n",
    "                --video_file <ПУТЬ К ВИДЕОФАЙЛУ>\n",
    "                --start <С КАКОЙ СЕКУНДЫ НАЧИНАТЬ АНАЛИЗ ВИДЕО, ПО УМОЛЧАНИЮ 0>\n",
    "```\n",
    "### Управление\n",
    "\n",
    "Мышью наводите окно детектора на область чуть выше верхней кромки ковша погрузчика. Чтобы включить детектирование, нажмите и удерживайте левую кнопку мыши. Рамка станет цветной, и в ней появится обозначение детектированной фракции. Чтобы отключить детектирование, отпустите левую кнопку мыши. Чтобы выйти, нажмите Esc."
   ]
  }
 ],
 "metadata": {
  "kernelspec": {
   "display_name": "Python 3",
   "language": "python",
   "name": "python3"
  },
  "language_info": {
   "codemirror_mode": {
    "name": "ipython",
    "version": 3
   },
   "file_extension": ".py",
   "mimetype": "text/x-python",
   "name": "python",
   "nbconvert_exporter": "python",
   "pygments_lexer": "ipython3",
   "version": "3.7.3"
  }
 },
 "nbformat": 4,
 "nbformat_minor": 2
}
